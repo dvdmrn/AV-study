{
 "worksheets": [
  {
   "cells": [
    {
     "cell_type": "code",
     "execution_count": null,
     "metadata": {},
     "outputs": [
      {
       "output_type": "stream",
       "stream": "stdout",
       "text": [
        "[  0.   0.   0.   0.  nan  nan  nan   0.   0.   0.]\n"
       ]
      },
      {
       "ename": "NameError",
       "evalue": "name 'plt' is not defined",
       "output_type": "pyerr",
       "traceback": [
        "\u001b[1;31m---------------------------------------------------------------------------\u001b[0m\n\u001b[1;31mNameError\u001b[0m                                 Traceback (most recent call last)",
        "\u001b[1;32m<ipython-input-1-ae1793f6a16d>\u001b[0m in \u001b[0;36m<module>\u001b[1;34m()\u001b[0m\n\u001b[0;32m      7\u001b[0m \u001b[1;32mprint\u001b[0m \u001b[0mdata\u001b[0m\u001b[1;33m\u001b[0m\u001b[0m\n\u001b[0;32m      8\u001b[0m \u001b[1;33m\u001b[0m\u001b[0m\n\u001b[1;32m----> 9\u001b[1;33m \u001b[0mplt\u001b[0m\u001b[1;33m.\u001b[0m\u001b[0mplot\u001b[0m\u001b[1;33m(\u001b[0m\u001b[0mdata\u001b[0m\u001b[1;33m)\u001b[0m\u001b[1;33m\u001b[0m\u001b[0m\n\u001b[0m\u001b[0;32m     10\u001b[0m \u001b[0mplt\u001b[0m\u001b[1;33m.\u001b[0m\u001b[0mshow\u001b[0m\u001b[1;33m(\u001b[0m\u001b[1;33m)\u001b[0m\u001b[1;33m\u001b[0m\u001b[0m\n",
        "\u001b[1;31mNameError\u001b[0m: name 'plt' is not defined"
       ]
      }
     ],
     "input": [
      "import numpy as np\n",
      "import matplotlib.pyplot\n",
      "\n",
      "data = np.zeros(10)\n",
      "data[4:7] = np.NaN\n",
      "\n",
      "print data\n",
      "\n",
      "plt.plot(data)\n",
      "plt.show()"
     ],
     "language": "python",
     "prompt_number": 1
    },
    {
     "cell_type": "code",
     "execution_count": null,
     "metadata": {},
     "outputs": [
      {
       "output_type": "stream",
       "stream": "stdout",
       "text": [
        "[ 1.  1.  1.  1.  1.]\n"
       ]
      }
     ],
     "input": [
      "z = np.zeros(5)\n",
      "print (z+1)"
     ],
     "language": "python",
     "prompt_number": 8
    },
    {
     "cell_type": "code",
     "execution_count": null,
     "metadata": {},
     "outputs": [
      {
       "output_type": "stream",
       "stream": "stdout",
       "text": [
        "[ 0.  0.  2.  2.  0.]\n"
       ]
      }
     ],
     "input": [
      "z[[2,3]] = 2\n",
      "print z"
     ],
     "language": "python",
     "prompt_number": 9
    },
    {
     "cell_type": "code",
     "execution_count": null,
     "metadata": {},
     "outputs": [
      {
       "output_type": "stream",
       "stream": "stderr",
       "text": [
        "/usr/local/lib/python2.7/dist-packages/matplotlib/backends/qt4_compat.py:11: MatplotlibDeprecationWarning: This module has been deprecated in 1.4 in favor of matplotlib.backends.qt_compat\n",
        "This module will be removed in 1.5, please update your imports.\n",
        "  warnings.warn(_warn_str, mplDeprecation)\n"
       ]
      },
      {
       "ename": "SystemExit",
       "evalue": "0",
       "output_type": "pyerr",
       "traceback": [
        "An exception has occurred, use %tb to see the full traceback.\n",
        "\u001b[1;31mSystemExit\u001b[0m\u001b[1;31m:\u001b[0m 0\n"
       ]
      },
      {
       "output_type": "stream",
       "stream": "stderr",
       "text": [
        "To exit: use 'exit', 'quit', or Ctrl-D.\n"
       ]
      }
     ],
     "input": [
      "# embedding_in_qt4.py --- Simple Qt4 application embedding matplotlib canvases\n",
      "#\n",
      "# Copyright (C) 2005 Florent Rougon\n",
      "#               2006 Darren Dale\n",
      "#\n",
      "# This file is an example program for matplotlib. It may be used and\n",
      "# modified with no restriction; raw copies as well as modified versions\n",
      "# may be distributed without limitation.\n",
      "\n",
      "from __future__ import unicode_literals\n",
      "import sys\n",
      "import os\n",
      "import random\n",
      "from matplotlib.backends import qt4_compat\n",
      "use_pyside = qt4_compat.QT_API == qt4_compat.QT_API_PYSIDE\n",
      "if use_pyside:\n",
      "    from PySide import QtGui, QtCore\n",
      "else:\n",
      "    from PyQt4 import QtGui, QtCore\n",
      "\n",
      "from numpy import arange, sin, pi\n",
      "from matplotlib.backends.backend_qt4agg import FigureCanvasQTAgg as FigureCanvas\n",
      "from matplotlib.figure import Figure\n",
      "\n",
      "progname = os.path.basename(sys.argv[0])\n",
      "progversion = \"0.1\"\n",
      "\n",
      "\n",
      "class MyMplCanvas(FigureCanvas):\n",
      "    \"\"\"Ultimately, this is a QWidget (as well as a FigureCanvasAgg, etc.).\"\"\"\n",
      "    def __init__(self, parent=None, width=5, height=4, dpi=100):\n",
      "        fig = Figure(figsize=(width, height), dpi=dpi)\n",
      "        self.axes = fig.add_subplot(111)\n",
      "        # We want the axes cleared every time plot() is called\n",
      "        self.axes.hold(False)\n",
      "\n",
      "        self.compute_initial_figure()\n",
      "\n",
      "        #\n",
      "        FigureCanvas.__init__(self, fig)\n",
      "        self.setParent(parent)\n",
      "\n",
      "        FigureCanvas.setSizePolicy(self,\n",
      "                                   QtGui.QSizePolicy.Expanding,\n",
      "                                   QtGui.QSizePolicy.Expanding)\n",
      "        FigureCanvas.updateGeometry(self)\n",
      "\n",
      "    def compute_initial_figure(self):\n",
      "        pass\n",
      "\n",
      "\n",
      "class MyStaticMplCanvas(MyMplCanvas):\n",
      "    \"\"\"Simple canvas with a sine plot.\"\"\"\n",
      "    def compute_initial_figure(self):\n",
      "        t = arange(0.0, 3.0, 0.01)\n",
      "        s = sin(2*pi*t)\n",
      "        self.axes.plot(t, s)\n",
      "\n",
      "\n",
      "class MyDynamicMplCanvas(MyMplCanvas):\n",
      "    \"\"\"A canvas that updates itself every second with a new plot.\"\"\"\n",
      "    def __init__(self, *args, **kwargs):\n",
      "        MyMplCanvas.__init__(self, *args, **kwargs)\n",
      "        timer = QtCore.QTimer(self)\n",
      "        timer.timeout.connect(self.update_figure)\n",
      "        timer.start(1000)\n",
      "\n",
      "    def compute_initial_figure(self):\n",
      "        self.axes.plot([0, 1, 2, 3], [1, 2, 0, 4], 'r')\n",
      "\n",
      "    def update_figure(self):\n",
      "        # Build a list of 4 random integers between 0 and 10 (both inclusive)\n",
      "        l = [random.randint(0, 10) for i in range(4)]\n",
      "\n",
      "        self.axes.plot([0, 1, 2, 3], l, 'r')\n",
      "        self.draw()\n",
      "\n",
      "\n",
      "class ApplicationWindow(QtGui.QMainWindow):\n",
      "    def __init__(self):\n",
      "        QtGui.QMainWindow.__init__(self)\n",
      "        self.setAttribute(QtCore.Qt.WA_DeleteOnClose)\n",
      "        self.setWindowTitle(\"application main window\")\n",
      "\n",
      "        self.file_menu = QtGui.QMenu('&File', self)\n",
      "        self.file_menu.addAction('&Quit', self.fileQuit,\n",
      "                                 QtCore.Qt.CTRL + QtCore.Qt.Key_Q)\n",
      "        self.menuBar().addMenu(self.file_menu)\n",
      "\n",
      "        self.help_menu = QtGui.QMenu('&Help', self)\n",
      "        self.menuBar().addSeparator()\n",
      "        self.menuBar().addMenu(self.help_menu)\n",
      "\n",
      "        self.help_menu.addAction('&About', self.about)\n",
      "\n",
      "        self.main_widget = QtGui.QWidget(self)\n",
      "\n",
      "        l = QtGui.QVBoxLayout(self.main_widget)\n",
      "        sc = MyStaticMplCanvas(self.main_widget, width=5, height=4, dpi=100)\n",
      "        dc = MyDynamicMplCanvas(self.main_widget, width=5, height=4, dpi=100)\n",
      "        l.addWidget(sc)\n",
      "        l.addWidget(dc)\n",
      "\n",
      "        self.main_widget.setFocus()\n",
      "        self.setCentralWidget(self.main_widget)\n",
      "\n",
      "        self.statusBar().showMessage(\"All hail matplotlib!\", 2000)\n",
      "\n",
      "    def fileQuit(self):\n",
      "        self.close()\n",
      "\n",
      "    def closeEvent(self, ce):\n",
      "        self.fileQuit()\n",
      "\n",
      "    def about(self):\n",
      "        QtGui.QMessageBox.about(self, \"About\",\n",
      "\"\"\"embedding_in_qt4.py example\n",
      "Copyright 2005 Florent Rougon, 2006 Darren Dale\n",
      "\n",
      "This program is a simple example of a Qt4 application embedding matplotlib\n",
      "canvases.\n",
      "\n",
      "It may be used and modified with no restriction; raw copies as well as\n",
      "modified versions may be distributed without limitation.\"\"\"\n",
      ")\n",
      "\n",
      "\n",
      "qApp = QtGui.QApplication(sys.argv)\n",
      "\n",
      "aw = ApplicationWindow()\n",
      "aw.setWindowTitle(\"%s\" % progname)\n",
      "aw.show()\n",
      "sys.exit(qApp.exec_())\n",
      "#qApp.exec_()"
     ],
     "language": "python",
     "prompt_number": 4
    },
    {
     "cell_type": "code",
     "execution_count": null,
     "metadata": {},
     "outputs": [
      {
       "output_type": "stream",
       "stream": "stderr",
       "text": [
        "/usr/local/lib/python2.7/dist-packages/matplotlib/backends/backend_qt5agg.py:210: MatplotlibDeprecationWarning: This class has been deprecated in 1.4 as it has no additional functionality over `NavigationToolbar2QT`.  Please change your code to use `NavigationToolbar2QT` instead\n",
        "  mplDeprecation)\n"
       ]
      },
      {
       "ename": "SystemExit",
       "evalue": "0",
       "output_type": "pyerr",
       "traceback": [
        "An exception has occurred, use %tb to see the full traceback.\n",
        "\u001b[1;31mSystemExit\u001b[0m\u001b[1;31m:\u001b[0m 0\n"
       ]
      },
      {
       "output_type": "stream",
       "stream": "stderr",
       "text": [
        "To exit: use 'exit', 'quit', or Ctrl-D.\n"
       ]
      }
     ],
     "input": [
      "import sys\n",
      "from PyQt4 import QtGui\n",
      "\n",
      "from matplotlib.backends.backend_qt4agg import FigureCanvasQTAgg as FigureCanvas\n",
      "from matplotlib.backends.backend_qt4agg import NavigationToolbar2QTAgg as NavigationToolbar\n",
      "import matplotlib.pyplot as plt\n",
      "\n",
      "import random\n",
      "\n",
      "class Window(QtGui.QDialog):\n",
      "    def __init__(self, parent=None):\n",
      "        super(Window, self).__init__(parent)\n",
      "\n",
      "        # a figure instance to plot on\n",
      "        self.figure = plt.figure()\n",
      "\n",
      "        # this is the Canvas Widget that displays the `figure`\n",
      "        # it takes the `figure` instance as a parameter to __init__\n",
      "        self.canvas = FigureCanvas(self.figure)\n",
      "\n",
      "        # this is the Navigation widget\n",
      "        # it takes the Canvas widget and a parent\n",
      "        self.toolbar = NavigationToolbar(self.canvas, self)\n",
      "\n",
      "        # Just some button connected to `plot` method\n",
      "        self.button = QtGui.QPushButton('Plot')\n",
      "        self.button.clicked.connect(self.plot)\n",
      "\n",
      "        # set the layout\n",
      "        layout = QtGui.QVBoxLayout()\n",
      "        layout.addWidget(self.toolbar)\n",
      "        layout.addWidget(self.canvas)\n",
      "        layout.addWidget(self.button)\n",
      "        self.setLayout(layout)\n",
      "\n",
      "    def plot(self):\n",
      "        ''' plot some random stuff '''\n",
      "        # random data\n",
      "        data = [random.random() for i in range(10)]\n",
      "\n",
      "        # create an axis\n",
      "        ax = self.figure.add_subplot(111)\n",
      "\n",
      "        # discards the old graph\n",
      "        ax.hold(False)\n",
      "\n",
      "        # plot data\n",
      "        ax.plot(data, '*-')\n",
      "\n",
      "        # refresh canvas\n",
      "        self.canvas.draw()\n",
      "\n",
      "if __name__ == '__main__':\n",
      "    app = QtGui.QApplication(sys.argv)\n",
      "\n",
      "    main = Window()\n",
      "    main.show()\n",
      "\n",
      "    sys.exit(app.exec_())"
     ],
     "language": "python",
     "prompt_number": 2
    },
    {
     "cell_type": "code",
     "execution_count": null,
     "metadata": {},
     "outputs": [],
     "input": [
      ""
     ],
     "language": "python"
    }
   ]
  }
 ],
 "cells": [],
 "metadata": {
  "name": "",
  "signature": "sha256:ddacdc568f57ffb6408dadcd0abbae2b7d86b6e2cea14f53b46f77d7b498f247"
 },
 "nbformat": 3,
 "nbformat_minor": 0
}
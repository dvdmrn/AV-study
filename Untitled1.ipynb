{
 "metadata": {
  "name": "",
  "signature": "sha256:e3a6a82ad4216733ca6af2f761c73188bb4c0974e428ab4edba49814d6fde17d"
 },
 "nbformat": 3,
 "nbformat_minor": 0,
 "worksheets": []
}
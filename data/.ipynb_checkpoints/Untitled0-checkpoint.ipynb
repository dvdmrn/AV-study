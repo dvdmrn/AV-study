{
 "metadata": {
  "name": "",
  "signature": "sha256:1843892ae9199242d98fc56b65c546ecd5b1d341fb5ce363648c1bbae2ace2c4"
 },
 "nbformat": 3,
 "nbformat_minor": 0,
 "worksheets": [
  {
   "cells": [
    {
     "cell_type": "code",
     "collapsed": false,
     "input": [
      "import numpy as np\n",
      "import matplotlib.pyplot\n",
      "\n",
      "data = np.zeros(10)\n",
      "data[4:7] = np.NaN\n",
      "\n",
      "print data\n",
      "\n",
      "plt.plot(data)\n",
      "plt.show()\n"
     ],
     "language": "python",
     "metadata": {},
     "outputs": [
      {
       "output_type": "stream",
       "stream": "stdout",
       "text": [
        "[  0.   0.   0.   0.  nan  nan  nan   0.   0.   0.]\n"
       ]
      }
     ],
     "prompt_number": 7
    },
    {
     "cell_type": "code",
     "collapsed": false,
     "input": [
      "z = np.zeros(5)\n",
      "print (z+1)"
     ],
     "language": "python",
     "metadata": {},
     "outputs": [
      {
       "output_type": "stream",
       "stream": "stdout",
       "text": [
        "[ 1.  1.  1.  1.  1.]\n"
       ]
      }
     ],
     "prompt_number": 8
    },
    {
     "cell_type": "code",
     "collapsed": false,
     "input": [
      "z[[2,3]] = 2\n",
      "print z"
     ],
     "language": "python",
     "metadata": {},
     "outputs": [
      {
       "output_type": "stream",
       "stream": "stdout",
       "text": [
        "[ 0.  0.  2.  2.  0.]\n"
       ]
      }
     ],
     "prompt_number": 9
    },
    {
     "cell_type": "code",
     "collapsed": false,
     "input": [
      "# embedding_in_qt4.py --- Simple Qt4 application embedding matplotlib canvases\n",
      "#\n",
      "# Copyright (C) 2005 Florent Rougon\n",
      "#               2006 Darren Dale\n",
      "#\n",
      "# This file is an example program for matplotlib. It may be used and\n",
      "# modified with no restriction; raw copies as well as modified versions\n",
      "# may be distributed without limitation.\n",
      "\n",
      "from __future__ import unicode_literals\n",
      "import sys\n",
      "import os\n",
      "import random\n",
      "#from matplotlib.backends import qt4_compat\n",
      "#use_pyside = qt4_compat.QT_API == qt4_compat.QT_API_PYSIDE\n",
      "#if use_pyside:\n",
      "#    from PySide import QtGui, QtCore\n",
      "#else:\n",
      "\n",
      "from PyQt4 import QtGui, QtCore\n",
      "\n",
      "from numpy import arange, sin, pi\n",
      "from matplotlib.backends.backend_qt4agg import FigureCanvasQTAgg as FigureCanvas\n",
      "from matplotlib.figure import Figure\n",
      "\n",
      "progname = os.path.basename(sys.argv[0])\n",
      "progversion = \"0.1\"\n",
      "\n",
      "\n",
      "class MyMplCanvas(FigureCanvas):\n",
      "    \"\"\"Ultimately, this is a QWidget (as well as a FigureCanvasAgg, etc.).\"\"\"\n",
      "    def __init__(self, parent=None, width=5, height=4, dpi=100):\n",
      "        fig = Figure(figsize=(width, height), dpi=dpi)\n",
      "        self.axes = fig.add_subplot(111)\n",
      "        # We want the axes cleared every time plot() is called\n",
      "        self.axes.hold(False)\n",
      "\n",
      "        self.compute_initial_figure()\n",
      "\n",
      "        #\n",
      "        FigureCanvas.__init__(self, fig)\n",
      "        self.setParent(parent)\n",
      "\n",
      "        FigureCanvas.setSizePolicy(self,\n",
      "                                   QtGui.QSizePolicy.Expanding,\n",
      "                                   QtGui.QSizePolicy.Expanding)\n",
      "        FigureCanvas.updateGeometry(self)\n",
      "\n",
      "    def compute_initial_figure(self):\n",
      "        pass\n",
      "\n",
      "\n",
      "class MyStaticMplCanvas(MyMplCanvas):\n",
      "    \"\"\"Simple canvas with a sine plot.\"\"\"\n",
      "    def compute_initial_figure(self):\n",
      "        t = arange(0.0, 3.0, 0.01)\n",
      "        s = sin(2*pi*t)\n",
      "        self.axes.plot(t, s)\n",
      "\n",
      "\n",
      "class MyDynamicMplCanvas(MyMplCanvas):\n",
      "    \"\"\"A canvas that updates itself every second with a new plot.\"\"\"\n",
      "    def __init__(self, *args, **kwargs):\n",
      "        MyMplCanvas.__init__(self, *args, **kwargs)\n",
      "        timer = QtCore.QTimer(self)\n",
      "        timer.timeout.connect(self.update_figure)\n",
      "        timer.start(1000)\n",
      "\n",
      "    def compute_initial_figure(self):\n",
      "        self.axes.plot([0, 1, 2, 3], [1, 2, 0, 4], 'r')\n",
      "\n",
      "    def update_figure(self):\n",
      "        # Build a list of 4 random integers between 0 and 10 (both inclusive)\n",
      "        l = [random.randint(0, 10) for i in range(4)]\n",
      "\n",
      "        self.axes.plot([0, 1, 2, 3], l, 'r')\n",
      "        self.draw()\n",
      "\n",
      "\n",
      "class ApplicationWindow(QtGui.QMainWindow):\n",
      "    def __init__(self):\n",
      "        QtGui.QMainWindow.__init__(self)\n",
      "        self.setAttribute(QtCore.Qt.WA_DeleteOnClose)\n",
      "        self.setWindowTitle(\"application main window\")\n",
      "\n",
      "        self.file_menu = QtGui.QMenu('&File', self)\n",
      "        self.file_menu.addAction('&Quit', self.fileQuit,\n",
      "                                 QtCore.Qt.CTRL + QtCore.Qt.Key_Q)\n",
      "        self.menuBar().addMenu(self.file_menu)\n",
      "\n",
      "        self.help_menu = QtGui.QMenu('&Help', self)\n",
      "        self.menuBar().addSeparator()\n",
      "        self.menuBar().addMenu(self.help_menu)\n",
      "\n",
      "        self.help_menu.addAction('&About', self.about)\n",
      "\n",
      "        self.main_widget = QtGui.QWidget(self)\n",
      "\n",
      "        l = QtGui.QVBoxLayout(self.main_widget)\n",
      "        sc = MyStaticMplCanvas(self.main_widget, width=5, height=4, dpi=100)\n",
      "        dc = MyDynamicMplCanvas(self.main_widget, width=5, height=4, dpi=100)\n",
      "        l.addWidget(sc)\n",
      "        l.addWidget(dc)\n",
      "\n",
      "        self.main_widget.setFocus()\n",
      "        self.setCentralWidget(self.main_widget)\n",
      "\n",
      "        self.statusBar().showMessage(\"All hail matplotlib!\", 2000)\n",
      "\n",
      "    def fileQuit(self):\n",
      "        self.close()\n",
      "\n",
      "    def closeEvent(self, ce):\n",
      "        self.fileQuit()\n",
      "\n",
      "    def about(self):\n",
      "        QtGui.QMessageBox.about(self, \"About\",\n",
      "\"\"\"embedding_in_qt4.py example\n",
      "Copyright 2005 Florent Rougon, 2006 Darren Dale\n",
      "\n",
      "This program is a simple example of a Qt4 application embedding matplotlib\n",
      "canvases.\n",
      "\n",
      "It may be used and modified with no restriction; raw copies as well as\n",
      "modified versions may be distributed without limitation.\"\"\"\n",
      ")\n",
      "\n",
      "\n",
      "qApp = QtGui.QApplication(sys.argv)\n",
      "\n",
      "aw = ApplicationWindow()\n",
      "aw.setWindowTitle(\"%s\" % progname)\n",
      "aw.show()\n",
      "sys.exit(qApp.exec_())\n",
      "#qApp.exec_()"
     ],
     "language": "python",
     "metadata": {},
     "outputs": [
      {
       "ename": "IndentationError",
       "evalue": "unexpected indent (<ipython-input-11-921a0199dd81>, line 19)",
       "output_type": "pyerr",
       "traceback": [
        "\u001b[1;36m  File \u001b[1;32m\"<ipython-input-11-921a0199dd81>\"\u001b[1;36m, line \u001b[1;32m19\u001b[0m\n\u001b[1;33m    from PyQt4 import QtGui, QtCore\u001b[0m\n\u001b[1;37m    ^\u001b[0m\n\u001b[1;31mIndentationError\u001b[0m\u001b[1;31m:\u001b[0m unexpected indent\n"
       ]
      }
     ],
     "prompt_number": 11
    },
    {
     "cell_type": "code",
     "collapsed": false,
     "input": [],
     "language": "python",
     "metadata": {},
     "outputs": []
    }
   ],
   "metadata": {}
  }
 ]
}